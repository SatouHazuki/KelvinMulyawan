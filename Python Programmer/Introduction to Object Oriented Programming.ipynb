{
 "cells": [
  {
   "cell_type": "markdown",
   "metadata": {},
   "source": [
    "# Membuat class"
   ]
  },
  {
   "cell_type": "code",
   "execution_count": 1,
   "metadata": {},
   "outputs": [],
   "source": [
    "class Mahasiswa:\n",
    "    pass"
   ]
  },
  {
   "cell_type": "markdown",
   "metadata": {},
   "source": [
    "# Membuat variable dalam class\n",
    "#### Variable = Attribute"
   ]
  },
  {
   "cell_type": "code",
   "execution_count": 2,
   "metadata": {},
   "outputs": [],
   "source": [
    "class Mahasiswa:\n",
    "    nama = 'Uzumaki Naruto'"
   ]
  },
  {
   "cell_type": "markdown",
   "metadata": {},
   "source": [
    "# Mengakses class"
   ]
  },
  {
   "cell_type": "code",
   "execution_count": 3,
   "metadata": {},
   "outputs": [
    {
     "data": {
      "text/plain": [
       "__main__.Mahasiswa"
      ]
     },
     "execution_count": 3,
     "metadata": {},
     "output_type": "execute_result"
    }
   ],
   "source": [
    "Mahasiswa"
   ]
  },
  {
   "cell_type": "code",
   "execution_count": 4,
   "metadata": {},
   "outputs": [
    {
     "data": {
      "text/plain": [
       "'Uzumaki Naruto'"
      ]
     },
     "execution_count": 4,
     "metadata": {},
     "output_type": "execute_result"
    }
   ],
   "source": [
    "Mahasiswa.nama"
   ]
  },
  {
   "cell_type": "code",
   "execution_count": 5,
   "metadata": {},
   "outputs": [
    {
     "data": {
      "text/plain": [
       "'Uzumaki Naruto'"
      ]
     },
     "execution_count": 5,
     "metadata": {},
     "output_type": "execute_result"
    }
   ],
   "source": [
    "m = Mahasiswa\n",
    "m.nama"
   ]
  },
  {
   "cell_type": "markdown",
   "metadata": {},
   "source": [
    "### Bonus 1"
   ]
  },
  {
   "cell_type": "code",
   "execution_count": 6,
   "metadata": {},
   "outputs": [
    {
     "name": "stdout",
     "output_type": "stream",
     "text": [
      "Uzumaki Naruto\n",
      "Konoha\n",
      "Angin\n"
     ]
    }
   ],
   "source": [
    "class Mahasiswa:\n",
    "    nama = 'Uzumaki Naruto'\n",
    "    desa = 'Konoha'\n",
    "    elemen = 'Angin'\n",
    "    \n",
    "m = Mahasiswa\n",
    "print(m.nama)\n",
    "print(m.desa)\n",
    "print(m.elemen)"
   ]
  },
  {
   "cell_type": "markdown",
   "metadata": {},
   "source": [
    "# Membuat function dalam class\n",
    "\n",
    "### Function = Method"
   ]
  },
  {
   "cell_type": "code",
   "execution_count": 19,
   "metadata": {},
   "outputs": [
    {
     "name": "stdout",
     "output_type": "stream",
     "text": [
      "Function ini sudah berjalan\n"
     ]
    }
   ],
   "source": [
    "class Mahasiswa:\n",
    "    \n",
    "    def Metode():\n",
    "        print('Function ini sudah berjalan')\n",
    "        \n",
    "m = Mahasiswa\n",
    "m.Metode()"
   ]
  },
  {
   "cell_type": "code",
   "execution_count": 9,
   "metadata": {},
   "outputs": [
    {
     "name": "stdout",
     "output_type": "stream",
     "text": [
      "Sasuke Uchiha\n"
     ]
    }
   ],
   "source": [
    "class Mahasiswa:\n",
    "    \n",
    "    def Metode(nama):\n",
    "        print(nama)\n",
    "        \n",
    "m = Mahasiswa\n",
    "m.Metode('Sasuke Uchiha')"
   ]
  },
  {
   "cell_type": "markdown",
   "metadata": {},
   "source": [
    "## __init__ constructor"
   ]
  },
  {
   "cell_type": "code",
   "execution_count": 21,
   "metadata": {},
   "outputs": [
    {
     "data": {
      "text/plain": [
       "__main__.Mahasiswa"
      ]
     },
     "execution_count": 21,
     "metadata": {},
     "output_type": "execute_result"
    }
   ],
   "source": [
    "class Mahasiswa:\n",
    "    \n",
    "    def __init__(self,nama,desa):\n",
    "        self.name = nama\n",
    "        self.homeland = desa\n",
    "        \n",
    "m = Mahasiswa\n",
    "m"
   ]
  },
  {
   "cell_type": "code",
   "execution_count": 22,
   "metadata": {},
   "outputs": [
    {
     "name": "stdout",
     "output_type": "stream",
     "text": [
      "Apa ini ?\n"
     ]
    }
   ],
   "source": [
    "try:\n",
    "    m.self.name\n",
    "except:\n",
    "    print('Apa ini ?')"
   ]
  },
  {
   "cell_type": "code",
   "execution_count": 24,
   "metadata": {},
   "outputs": [
    {
     "name": "stdout",
     "output_type": "stream",
     "text": [
      "Expected name and homeland attribute\n"
     ]
    }
   ],
   "source": [
    "try:\n",
    "    m = Mahasiswa()\n",
    "except:\n",
    "    print('Expected name and homeland attribute')"
   ]
  },
  {
   "cell_type": "code",
   "execution_count": 12,
   "metadata": {},
   "outputs": [],
   "source": [
    "m1 = Mahasiswa('Naruto Uzumaki','Konoha')"
   ]
  },
  {
   "cell_type": "code",
   "execution_count": 13,
   "metadata": {},
   "outputs": [
    {
     "data": {
      "text/plain": [
       "'Naruto Uzumaki'"
      ]
     },
     "execution_count": 13,
     "metadata": {},
     "output_type": "execute_result"
    }
   ],
   "source": [
    "m1.name"
   ]
  },
  {
   "cell_type": "code",
   "execution_count": 14,
   "metadata": {},
   "outputs": [
    {
     "data": {
      "text/plain": [
       "'Konoha'"
      ]
     },
     "execution_count": 14,
     "metadata": {},
     "output_type": "execute_result"
    }
   ],
   "source": [
    "m1.homeland"
   ]
  },
  {
   "cell_type": "code",
   "execution_count": 15,
   "metadata": {},
   "outputs": [
    {
     "name": "stdout",
     "output_type": "stream",
     "text": [
      "Sasuke Uchiha\n",
      "Konoha\n"
     ]
    }
   ],
   "source": [
    "class Mahasiswa:\n",
    "    \n",
    "    def __init__(another,nama,desa):\n",
    "        another.name = nama\n",
    "        another.homeland = desa\n",
    "        \n",
    "m1 = Mahasiswa('Sasuke Uchiha','Konoha')\n",
    "print(m1.name)\n",
    "print(m1.homeland)"
   ]
  },
  {
   "cell_type": "code",
   "execution_count": 16,
   "metadata": {},
   "outputs": [
    {
     "name": "stdout",
     "output_type": "stream",
     "text": [
      "Kankuro\n",
      "Sunagakure\n"
     ]
    }
   ],
   "source": [
    "class Mahasiswa:\n",
    "    \n",
    "    def __init__(self,nama,desa):\n",
    "        self.name = nama\n",
    "        self.homeland = desa\n",
    "        \n",
    "    def Output(self):\n",
    "        print(self.name)\n",
    "        print(self.homeland)\n",
    "        \n",
    "m1 = Mahasiswa('Kankuro','Sunagakure')\n",
    "m1.Output()"
   ]
  },
  {
   "cell_type": "markdown",
   "metadata": {},
   "source": [
    "### Class Attribute vs Instance Attribute"
   ]
  },
  {
   "cell_type": "code",
   "execution_count": 17,
   "metadata": {},
   "outputs": [
    {
     "name": "stdout",
     "output_type": "stream",
     "text": [
      "Kankuro\n",
      "Sunagakure\n",
      "Rank is undefineable\n"
     ]
    }
   ],
   "source": [
    "class Mahasiswa:\n",
    "    Rank = 'Jounin'\n",
    "    \n",
    "    def __init__(self,nama,desa):\n",
    "        self.name = nama\n",
    "        self.homeland = desa\n",
    "        \n",
    "    def Output(self):\n",
    "        print(self.name)\n",
    "        print(self.homeland)\n",
    "        print(Rank)\n",
    "        \n",
    "m1 = Mahasiswa('Kankuro','Sunagakure')\n",
    "try:\n",
    "    m1.Output()\n",
    "except:\n",
    "    print('Rank is undefineable')"
   ]
  },
  {
   "cell_type": "code",
   "execution_count": 18,
   "metadata": {},
   "outputs": [
    {
     "name": "stdout",
     "output_type": "stream",
     "text": [
      "Kankuro\n",
      "Sunagakure\n",
      "Jounin\n"
     ]
    }
   ],
   "source": [
    "class Mahasiswa:\n",
    "    Rank = 'Jounin'\n",
    "    \n",
    "    def __init__(self,nama,desa):\n",
    "        self.name = nama\n",
    "        self.homeland = desa\n",
    "        \n",
    "    def Output(self):\n",
    "        print(self.name)\n",
    "        print(self.homeland)\n",
    "        print(Mahasiswa.Rank)\n",
    "        \n",
    "m1 = Mahasiswa('Kankuro','Sunagakure')\n",
    "try:\n",
    "    m1.Output()\n",
    "except:\n",
    "    print('Rank is undefineable')"
   ]
  },
  {
   "cell_type": "code",
   "execution_count": 25,
   "metadata": {},
   "outputs": [
    {
     "data": {
      "text/plain": [
       "'Temari'"
      ]
     },
     "execution_count": 25,
     "metadata": {},
     "output_type": "execute_result"
    }
   ],
   "source": [
    "class Mahasiswa:\n",
    "    Rank = 'Jounin'\n",
    "    \n",
    "    def __init__(self,nama,desa):\n",
    "        self.name = nama\n",
    "        self.homeland = desa\n",
    "        \n",
    "m1 = Mahasiswa('Temari','Sunagakure')\n",
    "m1.name"
   ]
  }
 ],
 "metadata": {
  "kernelspec": {
   "display_name": "Python 3",
   "language": "python",
   "name": "python3"
  },
  "language_info": {
   "codemirror_mode": {
    "name": "ipython",
    "version": 3
   },
   "file_extension": ".py",
   "mimetype": "text/x-python",
   "name": "python",
   "nbconvert_exporter": "python",
   "pygments_lexer": "ipython3",
   "version": "3.8.5"
  }
 },
 "nbformat": 4,
 "nbformat_minor": 4
}
